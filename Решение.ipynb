{
  "nbformat": 4,
  "nbformat_minor": 0,
  "metadata": {
    "colab": {
      "provenance": []
    },
    "kernelspec": {
      "name": "python3",
      "display_name": "Python 3"
    },
    "language_info": {
      "name": "python"
    }
  },
  "cells": [
    {
      "cell_type": "code",
      "source": [
        "import numpy as np\n",
        "import cv2\n",
        "from tensorflow.keras.preprocessing.image import ImageDataGenerator\n",
        "from sklearn.model_selection import train_test_split\n",
        "from tensorflow.keras.applications import VGG16\n",
        "from tensorflow.keras.models import Sequential\n",
        "from tensorflow.keras.optimizers import Adam\n",
        "from tensorflow.keras import layers, models\n",
        "\n",
        "# Загрузка данных из файла в формате .npz\n",
        "file_path = '/content/drive/MyDrive/train.npz'\n",
        "data = np.load(file_path)  # Загрузка данных из файла\n",
        "pics = data['data']\n",
        "labels = data['labels']\n",
        "# Функция для изменения размера изображений\n",
        "def resize_images(pics, target_size=(64, 64)):\n",
        "    resized_pics = []\n",
        "    for pic in pics:\n",
        "        pic_resized = cv2.resize(pic, target_size)\n",
        "        resized_pics.append(pic_resized)\n",
        "    return np.array(resized_pics)\n",
        "\n",
        "# Преобразование всех изображений к заданному размеру\n",
        "pics_resized = resize_images(pics, target_size=(64, 64))\n",
        "# Разделение данных на обучающую и тестовую выборки\n",
        "x_train, x_test, y_train, y_test = train_test_split(\n",
        "    pics_resized, labels, test_size=0.2, random_state=42\n",
        ")\n",
        "\n",
        "# Нормализация данных (перевод значений пикселей в диапазон от 0 до 1)\n",
        "x_train = x_train / 255.0\n",
        "x_test = x_test / 255.0\n",
        "\n",
        "# Настройка генератора данных для аугментации изображений\n",
        "datagen = ImageDataGenerator(\n",
        "    rotation_range=20,\n",
        "    width_shift_range=0.2,\n",
        "    height_shift_range=0.2,\n",
        "    shear_range=0.2,\n",
        "    zoom_range=0.2,\n",
        "    horizontal_flip=True,\n",
        "    fill_mode='nearest'\n",
        ")\n",
        "# Применение аугментации к обучающим данным\n",
        "datagen.fit(x_train)\n",
        "\n",
        "# Загрузка предобученной модели VGG16 без верхних (полносвязных) слоев\n",
        "base_model = VGG16(weights='imagenet', include_top=False, input_shape=(64, 64, 3))\n",
        "\n",
        "# Заморозка слоев предобученной модели, чтобы они не обучались заново\n",
        "for layer in base_model.layers:\n",
        "    layer.trainable = False\n",
        "# Создание модели\n",
        "model = Sequential([\n",
        "    base_model,\n",
        "    layers.Flatten(),\n",
        "    layers.Dense(128, activation='relu'),\n",
        "    layers.Dense(9, activation='softmax')\n",
        "])\n",
        "# Компиляция модели с использованием оптимизатора Adam\n",
        "model.compile(\n",
        "    optimizer=Adam(learning_rate=0.0001),\n",
        "    loss='sparse_categorical_crossentropy',\n",
        "    metrics=['accuracy']\n",
        ")\n",
        "# Обучение модели с использованием аугментированных данных\n",
        "model.fit(\n",
        "    datagen.flow(x_train, y_train, batch_size=32),\n",
        "    epochs=10,\n",
        "    validation_data=(x_test, y_test)\n",
        ")\n",
        "# Оценка точности модели на тестовой выборке\n",
        "accuracy = model.evaluate(x_test, y_test)\n",
        "print(f\"Точность модели: {accuracy[1]:.2f}\")"
      ],
      "metadata": {
        "id": "RuIO1G8p6Un_",
        "colab": {
          "base_uri": "https://localhost:8080/"
        },
        "outputId": "d5ff0719-bbdd-44b0-c8ed-d4daac6baba7"
      },
      "execution_count": 1,
      "outputs": [
        {
          "output_type": "stream",
          "name": "stdout",
          "text": [
            "Epoch 1/10\n"
          ]
        },
        {
          "output_type": "stream",
          "name": "stderr",
          "text": [
            "/usr/local/lib/python3.10/dist-packages/keras/src/trainers/data_adapters/py_dataset_adapter.py:122: UserWarning: Your `PyDataset` class should call `super().__init__(**kwargs)` in its constructor. `**kwargs` can include `workers`, `use_multiprocessing`, `max_queue_size`. Do not pass these arguments to `fit()`, as they will be ignored.\n",
            "  self._warn_if_super_not_called()\n"
          ]
        },
        {
          "output_type": "stream",
          "name": "stdout",
          "text": [
            "\u001b[1m450/450\u001b[0m \u001b[32m━━━━━━━━━━━━━━━━━━━━\u001b[0m\u001b[37m\u001b[0m \u001b[1m950s\u001b[0m 2s/step - accuracy: 0.4824 - loss: 1.5421 - val_accuracy: 0.6947 - val_loss: 0.8724\n",
            "Epoch 2/10\n",
            "\u001b[1m450/450\u001b[0m \u001b[32m━━━━━━━━━━━━━━━━━━━━\u001b[0m\u001b[37m\u001b[0m \u001b[1m950s\u001b[0m 2s/step - accuracy: 0.7006 - loss: 0.8750 - val_accuracy: 0.7239 - val_loss: 0.7667\n",
            "Epoch 3/10\n",
            "\u001b[1m450/450\u001b[0m \u001b[32m━━━━━━━━━━━━━━━━━━━━\u001b[0m\u001b[37m\u001b[0m \u001b[1m957s\u001b[0m 2s/step - accuracy: 0.7264 - loss: 0.7807 - val_accuracy: 0.7519 - val_loss: 0.6931\n",
            "Epoch 4/10\n",
            "\u001b[1m450/450\u001b[0m \u001b[32m━━━━━━━━━━━━━━━━━━━━\u001b[0m\u001b[37m\u001b[0m \u001b[1m986s\u001b[0m 2s/step - accuracy: 0.7484 - loss: 0.7213 - val_accuracy: 0.7575 - val_loss: 0.6816\n",
            "Epoch 5/10\n",
            "\u001b[1m450/450\u001b[0m \u001b[32m━━━━━━━━━━━━━━━━━━━━\u001b[0m\u001b[37m\u001b[0m \u001b[1m984s\u001b[0m 2s/step - accuracy: 0.7651 - loss: 0.6842 - val_accuracy: 0.7664 - val_loss: 0.6562\n",
            "Epoch 6/10\n",
            "\u001b[1m450/450\u001b[0m \u001b[32m━━━━━━━━━━━━━━━━━━━━\u001b[0m\u001b[37m\u001b[0m \u001b[1m947s\u001b[0m 2s/step - accuracy: 0.7640 - loss: 0.6669 - val_accuracy: 0.7786 - val_loss: 0.6159\n",
            "Epoch 7/10\n",
            "\u001b[1m450/450\u001b[0m \u001b[32m━━━━━━━━━━━━━━━━━━━━\u001b[0m\u001b[37m\u001b[0m \u001b[1m964s\u001b[0m 2s/step - accuracy: 0.7689 - loss: 0.6491 - val_accuracy: 0.7728 - val_loss: 0.6312\n",
            "Epoch 8/10\n",
            "\u001b[1m450/450\u001b[0m \u001b[32m━━━━━━━━━━━━━━━━━━━━\u001b[0m\u001b[37m\u001b[0m \u001b[1m984s\u001b[0m 2s/step - accuracy: 0.7767 - loss: 0.6417 - val_accuracy: 0.7714 - val_loss: 0.6308\n",
            "Epoch 9/10\n",
            "\u001b[1m450/450\u001b[0m \u001b[32m━━━━━━━━━━━━━━━━━━━━\u001b[0m\u001b[37m\u001b[0m \u001b[1m965s\u001b[0m 2s/step - accuracy: 0.7782 - loss: 0.6219 - val_accuracy: 0.7867 - val_loss: 0.5988\n",
            "Epoch 10/10\n",
            "\u001b[1m450/450\u001b[0m \u001b[32m━━━━━━━━━━━━━━━━━━━━\u001b[0m\u001b[37m\u001b[0m \u001b[1m967s\u001b[0m 2s/step - accuracy: 0.7811 - loss: 0.6198 - val_accuracy: 0.7831 - val_loss: 0.5928\n",
            "\u001b[1m113/113\u001b[0m \u001b[32m━━━━━━━━━━━━━━━━━━━━\u001b[0m\u001b[37m\u001b[0m \u001b[1m185s\u001b[0m 2s/step - accuracy: 0.7683 - loss: 0.6222\n",
            "Точность модели: 0.78\n"
          ]
        }
      ]
    }
  ]
}